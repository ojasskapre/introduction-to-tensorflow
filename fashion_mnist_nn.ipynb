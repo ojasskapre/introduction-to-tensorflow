{
 "cells": [
  {
   "cell_type": "code",
   "execution_count": 4,
   "metadata": {},
   "outputs": [
    {
     "name": "stdout",
     "output_type": "stream",
     "text": [
      "2.13.0\n"
     ]
    }
   ],
   "source": [
    "import tensorflow as tf\n",
    "import numpy as np\n",
    "import matplotlib\n",
    "\n",
    "print(tf.__version__)"
   ]
  },
  {
   "cell_type": "markdown",
   "metadata": {},
   "source": [
    "Loading the Fashion MNSIT dataset which is directly available in TensorFlow\n",
    "The Fashion MNIST dataset is a collection of grayscale 28x28 pixel clothing images. It consists of a training set of 60,000 images and a test set of 10,000 images. Each image is mapped to a single label from the following 10 classes:\n",
    "- 0: T-shirt/top\n",
    "- 1: Trouser\n",
    "- 2: Pullover\n",
    "- 3: Dress\n",
    "- 4: Coat\n",
    "- 5: Sandal\n",
    "- 6: Shirt\n",
    "- 7: Sneaker\n",
    "- 8: Bag\n",
    "- 9: Ankle boot"
   ]
  },
  {
   "cell_type": "code",
   "execution_count": 5,
   "metadata": {},
   "outputs": [],
   "source": [
    "fmnist = tf.keras.datasets.fashion_mnist"
   ]
  },
  {
   "cell_type": "code",
   "execution_count": 6,
   "metadata": {},
   "outputs": [],
   "source": [
    "# Load the training and test split of the Fashion MNIST dataset\n",
    "(training_images, training_labels), (test_images, test_labels) = fmnist.load_data()"
   ]
  },
  {
   "cell_type": "code",
   "execution_count": 11,
   "metadata": {},
   "outputs": [
    {
     "name": "stdout",
     "output_type": "stream",
     "text": [
      "LABEL: 6\n",
      "\n",
      "IMAGE PIXEL ARRAY:\n",
      " [[  0   0   0   0   0   0   0   0   0  62  28   0   0   0   0   0   0   2  61  22   0   0   0   0   0   0   0   0]\n",
      " [  0   0   0   0   0   0   0 181 221 222  64  58 109  47  11  59 108  59  49 215 200 143   0   0   0   0   0   0]\n",
      " [  0   0   0   0   0   0 230 218 231 225 157   0   0  31  49  30   0   0 163 232 235 227 213   0   0   0   0   0]\n",
      " [  0   0   0   0   0  75 240 185 213 231 224 232  89   1  14  52 127 234 228 229 215 176 238 112   0   0   0   0]\n",
      " [  0   0   0   0   0 196 221 217 159 243 229 185 255 249 220 255 199 236 222 239 166 214 211 214   0   0   0   0]\n",
      " [  0   0   0   0  19 220 210 234 163 225 207 162 220 163 152 204 182 158 255 185 197 222 207 240 147   0   0   0]\n",
      " [  0   0   0   0   0 238 219 230 205 239 184 214 183 163 160 173 221 180 236 177 236 217 230 191   0   0   0   0]\n",
      " [  0   0   0   0   0  61 237 236 212 245 242 200 154 202 206 153 202 255 199 217 228 232 213   0   0   0   0   0]\n",
      " [  0   0   0   0   0   0  50 242 228 233 232 238 224 236 239 231 240 231 228 232 232 255   3   0   1   0   0   0]\n",
      " [  0   0   0   0   0   0   0 106 246 227 229 232 237 232 230 230 232 229 231 229 248 130   0   0   0   0   0   0]\n",
      " [  0   0   0   0   0   2   0  80 233 225 235 231 230 230 233 231 232 230 231 230 246   5   0   1   0   0   0   0]\n",
      " [  0   0   0   0   0   3   0  37 243 230 232 230 231 231 229 231 233 233 229 233 239  13   0   3   0   0   0   0]\n",
      " [  0   0   0   0   0   2   0   0 255 233 232 231 231 231 233 232 231 232 228 236 229   0   0   2   0   0   0   0]\n",
      " [  0   0   0   0   0   0   0   0 216 244 226 228 233 231 232 231 230 231 229 237 253   0   0   1   0   0   0   0]\n",
      " [  0   0   0   0   0   0   0   0 224 241 223 229 234 232 231 231 228 229 229 237 247   0   0   1   0   0   0   0]\n",
      " [  0   0   0   0   0   1   0   0 236 238 223 230 235 233 229 234 232 229 227 235 252   0   0   1   0   0   0   0]\n",
      " [  0   0   0   0   0   1   0   0 246 235 225 232 235 233 228 233 234 229 230 231 228   0   0   3   0   0   0   0]\n",
      " [  0   0   0   0   0   2   0   0 255 233 226 232 234 232 228 232 236 231 230 228 238  27   0   3   0   0   0   0]\n",
      " [  0   0   0   0   0   3   0   4 232 232 228 232 234 232 228 230 231 230 228 228 242  59   0   3   0   0   0   0]\n",
      " [  0   0   0   0   0   3   0  23 241 228 226 233 234 232 228 232 234 231 228 227 247 104   0   3   0   0   0   0]\n",
      " [  0   0   0   0   0   4   0  40 243 227 228 232 234 233 229 232 231 231 228 226 246 148   0   2   0   0   0   0]\n",
      " [  0   0   0   0   0   4   0  52 244 225 231 231 233 232 230 232 230 231 228 227 245 185   0   0   0   0   0   0]\n",
      " [  0   0   0   0   0   4   0  58 244 224 230 230 232 231 229 232 231 231 227 223 243 199   0   0   0   0   0   0]\n",
      " [  0   0   0   0   0   4   0  53 243 225 230 229 233 231 229 233 230 230 229 226 239 221   0   0   0   0   0   0]\n",
      " [  0   0   0   0   0   4   0  47 243 224 232 229 234 230 229 232 230 229 229 228 237 237   0   0   0   0   0   0]\n",
      " [  0   0   0   0   0   4   0  30 239 225 227 226 233 229 229 234 230 230 230 227 234 235   0   0   1   0   0   0]\n",
      " [  0   0   0   0   0   3   0  21 242 229 247 251 250 247 243 238 241 241 236 233 239 255   0   0   1   0   0   0]\n",
      " [  0   0   0   0   0   2   0   0 213 164 161 164 154 158 177 170 182 173 159 167 208 171   0   0   0   0   0   0]]\n"
     ]
    },
    {
     "data": {
      "text/plain": [
       "<matplotlib.image.AxesImage at 0x17b0c6560>"
      ]
     },
     "execution_count": 11,
     "metadata": {},
     "output_type": "execute_result"
    },
    {
     "data": {
      "image/png": "[encoded data removed]",
      "text/plain": [
       "<Figure size 640x480 with 1 Axes>"
      ]
     },
     "metadata": {},
     "output_type": "display_data"
    }
   ],
   "source": [
    "import numpy as np\n",
    "import matplotlib.pyplot as plt\n",
    "\n",
    "# You can put between 0 to 59999 here\n",
    "index = 6632\n",
    "\n",
    "# Set number of characters per row when printing\n",
    "np.set_printoptions(linewidth=320)\n",
    "\n",
    "# Print the label and image\n",
    "print(f'LABEL: {training_labels[index]}')\n",
    "print(f'\\nIMAGE PIXEL ARRAY:\\n {training_images[index]}')\n",
    "\n",
    "# Visualize the image\n",
    "plt.imshow(training_images[index])"
   ]
  },
  {
   "cell_type": "code",
   "execution_count": 12,
   "metadata": {},
   "outputs": [],
   "source": [
    "# Normalize the pixel values of the train and test images\n",
    "training_images  = training_images / 255.0\n",
    "test_images = test_images / 255.0"
   ]
  },
  {
   "cell_type": "markdown",
   "metadata": {},
   "source": [
    "Adding a callback to stop training at 90% accuracy"
   ]
  },
  {
   "cell_type": "code",
   "execution_count": 27,
   "metadata": {},
   "outputs": [],
   "source": [
    "class myCallback(tf.keras.callbacks.Callback):\n",
    "  def on_epoch_end(self, epoch, logs={}):\n",
    "    if(logs.get('accuracy') >= 0.9):\n",
    "      print(\"\\nReached 90% accuracy so cancelling training!\")\n",
    "      self.model.stop_training = True\n",
    "    \n",
    "    if(logs.get('loss') < 0.4):\n",
    "      print(\"\\nLoss is lower than 0.4 so cancelling training!\")\n",
    "      self.model.stop_training = True\n",
    "\n",
    "callbacks = myCallback()"
   ]
  },
  {
   "cell_type": "markdown",
   "metadata": {},
   "source": [
    "- `Sequential`: Defines sequence of layers in neural networks\n",
    "- `Flatten`: Converts 28 x 28 2D array into a 1D array\n",
    "- `Dense`: Adds a layer of neurons\n",
    "\n",
    "Activation Functions\n",
    "- `Relu`: If x > 0 return x, else return 0\n",
    "- `Softmax`: Takes a set of values and picks the biggest one (probability). In our example, if biggest one is in index 4, then the label of image is 4"
   ]
  },
  {
   "cell_type": "code",
   "execution_count": 28,
   "metadata": {},
   "outputs": [],
   "source": [
    "# Build the classification model\n",
    "model = tf.keras.models.Sequential([tf.keras.layers.Flatten(), \n",
    "                                    tf.keras.layers.Dense(128, activation=tf.nn.relu), \n",
    "                                    tf.keras.layers.Dense(10, activation=tf.nn.softmax)])"
   ]
  },
  {
   "cell_type": "code",
   "execution_count": 29,
   "metadata": {},
   "outputs": [
    {
     "name": "stderr",
     "output_type": "stream",
     "text": [
      "WARNING:absl:At this time, the v2.11+ optimizer `tf.keras.optimizers.Adam` runs slowly on M1/M2 Macs, please use the legacy Keras optimizer instead, located at `tf.keras.optimizers.legacy.Adam`.\n",
      "WARNING:absl:There is a known slowdown when using v2.11+ Keras optimizers on M1/M2 Macs. Falling back to the legacy Keras optimizer, i.e., `tf.keras.optimizers.legacy.Adam`.\n"
     ]
    },
    {
     "name": "stdout",
     "output_type": "stream",
     "text": [
      "Epoch 1/10\n",
      "1875/1875 [==============================] - 2s 809us/step - loss: 0.4929 - accuracy: 0.8252\n",
      "Epoch 2/10\n",
      "1825/1875 [============================>.] - ETA: 0s - loss: 0.3709 - accuracy: 0.8658\n",
      "Loss is lower than 0.4 so cancelling training!\n",
      "1875/1875 [==============================] - 2s 827us/step - loss: 0.3717 - accuracy: 0.8655\n"
     ]
    },
    {
     "data": {
      "text/plain": [
       "<keras.src.callbacks.History at 0x2ebef2590>"
      ]
     },
     "execution_count": 29,
     "metadata": {},
     "output_type": "execute_result"
    }
   ],
   "source": [
    "model.compile(optimizer = tf.optimizers.Adam(),\n",
    "              loss = 'sparse_categorical_crossentropy',\n",
    "              metrics=['accuracy'])\n",
    "\n",
    "model.fit(training_images, training_labels, epochs=10, callbacks=[callbacks])"
   ]
  },
  {
   "cell_type": "markdown",
   "metadata": {},
   "source": [
    "Evaluating the model's performance on testing dataset"
   ]
  },
  {
   "cell_type": "code",
   "execution_count": 30,
   "metadata": {},
   "outputs": [
    {
     "name": "stdout",
     "output_type": "stream",
     "text": [
      "313/313 [==============================] - 0s 561us/step - loss: 0.3850 - accuracy: 0.8600\n"
     ]
    },
    {
     "data": {
      "text/plain": [
       "[0.3850407004356384, 0.8600000143051147]"
      ]
     },
     "execution_count": 30,
     "metadata": {},
     "output_type": "execute_result"
    }
   ],
   "source": [
    "# Evaluate the model on unseen data\n",
    "model.evaluate(test_images, test_labels)"
   ]
  },
  {
   "cell_type": "markdown",
   "metadata": {},
   "source": [
    "Create a set of classification for each of the test images"
   ]
  },
  {
   "cell_type": "code",
   "execution_count": 31,
   "metadata": {},
   "outputs": [
    {
     "name": "stdout",
     "output_type": "stream",
     "text": [
      "313/313 [==============================] - 0s 1ms/step\n",
      "[3.6783596e-05 9.0544563e-07 2.5116453e-05 7.8936580e-05 2.9542980e-05 1.6380265e-02 1.0681361e-04 6.8054788e-02 7.1403603e-03 9.0814650e-01]\n"
     ]
    }
   ],
   "source": [
    "classifications = model.predict(test_images)\n",
    "\n",
    "print(classifications[0])"
   ]
  },
  {
   "cell_type": "markdown",
   "metadata": {},
   "source": [
    "## Convolutional Neural Network (CNN) for Fashion-MNIST Classification"
   ]
  },
  {
   "cell_type": "code",
   "execution_count": 32,
   "metadata": {},
   "outputs": [
    {
     "name": "stdout",
     "output_type": "stream",
     "text": [
      "Model: \"sequential_3\"\n",
      "_________________________________________________________________\n",
      " Layer (type)                Output Shape              Param #   \n",
      "=================================================================\n",
      " conv2d (Conv2D)             (None, 26, 26, 32)        320       \n",
      "                                                                 \n",
      " max_pooling2d (MaxPooling2  (None, 13, 13, 32)        0         \n",
      " D)                                                              \n",
      "                                                                 \n",
      " conv2d_1 (Conv2D)           (None, 11, 11, 32)        9248      \n",
      "                                                                 \n",
      " max_pooling2d_1 (MaxPoolin  (None, 5, 5, 32)          0         \n",
      " g2D)                                                            \n",
      "                                                                 \n",
      " flatten_3 (Flatten)         (None, 800)               0         \n",
      "                                                                 \n",
      " dense_6 (Dense)             (None, 128)               102528    \n",
      "                                                                 \n",
      " dense_7 (Dense)             (None, 10)                1290      \n",
      "                                                                 \n",
      "=================================================================\n",
      "Total params: 113386 (442.91 KB)\n",
      "Trainable params: 113386 (442.91 KB)\n",
      "Non-trainable params: 0 (0.00 Byte)\n",
      "_________________________________________________________________\n",
      "\n",
      "MODEL TRAINING:\n",
      "Epoch 1/5\n",
      "1875/1875 [==============================] - 19s 10ms/step - loss: 0.4762 - accuracy: 0.8279\n",
      "Epoch 2/5\n",
      "1875/1875 [==============================] - 18s 9ms/step - loss: 0.3141 - accuracy: 0.8857\n",
      "Epoch 3/5\n",
      "1875/1875 [==============================] - 18s 10ms/step - loss: 0.2695 - accuracy: 0.8997\n",
      "Epoch 4/5\n",
      "1875/1875 [==============================] - 19s 10ms/step - loss: 0.2394 - accuracy: 0.9103\n",
      "Epoch 5/5\n",
      "1875/1875 [==============================] - 20s 11ms/step - loss: 0.2166 - accuracy: 0.9195\n",
      "\n",
      "MODEL EVALUATION:\n",
      "313/313 [==============================] - 1s 3ms/step - loss: 0.2663 - accuracy: 0.9024\n"
     ]
    }
   ],
   "source": [
    "# Define the model\n",
    "model = tf.keras.models.Sequential([\n",
    "                                                         \n",
    "  # Add convolutions and max pooling\n",
    "  tf.keras.layers.Conv2D(32, (3,3), activation='relu', input_shape=(28, 28, 1)),\n",
    "  tf.keras.layers.MaxPooling2D(2, 2),\n",
    "  tf.keras.layers.Conv2D(32, (3,3), activation='relu'),\n",
    "  tf.keras.layers.MaxPooling2D(2,2),\n",
    "\n",
    "  # Add the same layers as before\n",
    "  tf.keras.layers.Flatten(),\n",
    "  tf.keras.layers.Dense(128, activation='relu'),\n",
    "  tf.keras.layers.Dense(10, activation='softmax')\n",
    "])\n",
    "\n",
    "# Print the model summary\n",
    "model.summary()\n",
    "\n",
    "# Use same settings\n",
    "model.compile(optimizer='adam', loss='sparse_categorical_crossentropy', metrics=['accuracy'])\n",
    "\n",
    "# Train the model\n",
    "print(f'\\nMODEL TRAINING:')\n",
    "model.fit(training_images, training_labels, epochs=5)\n",
    "\n",
    "# Evaluate on the test set\n",
    "print(f'\\nMODEL EVALUATION:')\n",
    "test_loss = model.evaluate(test_images, test_labels)"
   ]
  },
  {
   "cell_type": "code",
   "execution_count": null,
   "metadata": {},
   "outputs": [],
   "source": []
  }
 ],
 "metadata": {
  "kernelspec": {
   "display_name": "venv",
   "language": "python",
   "name": "python3"
  },
  "language_info": {
   "codemirror_mode": {
    "name": "ipython",
    "version": 3
   },
   "file_extension": ".py",
   "mimetype": "text/x-python",
   "name": "python",
   "nbconvert_exporter": "python",
   "pygments_lexer": "ipython3",
   "version": "3.10.0"
  },
  "orig_nbformat": 4
 },
 "nbformat": 4,
 "nbformat_minor": 2
}
